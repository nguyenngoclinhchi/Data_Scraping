{
 "cells": [
  {
   "cell_type": "code",
   "execution_count": 7,
   "metadata": {
    "scrolled": false
   },
   "outputs": [
    {
     "name": "stdout",
     "output_type": "stream",
     "text": [
      "Uganda Securities Exchange\n",
      "1662.83\n",
      "None\n"
     ]
    },
    {
     "ename": "TypeError",
     "evalue": "'in <string>' requires string as left operand, not Series",
     "output_type": "error",
     "traceback": [
      "\u001b[1;31m---------------------------------------------------------------------------\u001b[0m",
      "\u001b[1;31mTypeError\u001b[0m                                 Traceback (most recent call last)",
      "\u001b[1;32m<ipython-input-7-038a8fd7701e>\u001b[0m in \u001b[0;36m<module>\u001b[1;34m\u001b[0m\n\u001b[0;32m     43\u001b[0m \u001b[1;33m\u001b[0m\u001b[0m\n\u001b[0;32m     44\u001b[0m \u001b[1;33m\u001b[0m\u001b[0m\n\u001b[1;32m---> 45\u001b[1;33m \u001b[0mdf\u001b[0m\u001b[1;33m.\u001b[0m\u001b[0mloc\u001b[0m\u001b[1;33m[\u001b[0m\u001b[0mdf\u001b[0m\u001b[1;33m[\u001b[0m\u001b[1;34m'Country'\u001b[0m\u001b[1;33m]\u001b[0m \u001b[1;32min\u001b[0m \u001b[1;33m(\u001b[0m\u001b[1;34m'Uganda'\u001b[0m\u001b[1;33m)\u001b[0m\u001b[1;33m]\u001b[0m\u001b[1;33m\u001b[0m\u001b[1;33m\u001b[0m\u001b[0m\n\u001b[0m\u001b[0;32m     46\u001b[0m \u001b[0mdf\u001b[0m\u001b[1;33m[\u001b[0m\u001b[1;34m'date'\u001b[0m\u001b[1;33m]\u001b[0m \u001b[1;33m=\u001b[0m \u001b[0mnp\u001b[0m\u001b[1;33m.\u001b[0m\u001b[0mwhere\u001b[0m\u001b[1;33m(\u001b[0m\u001b[0mdf\u001b[0m\u001b[1;33m[\u001b[0m\u001b[1;34m'Country'\u001b[0m\u001b[1;33m]\u001b[0m \u001b[1;33m==\u001b[0m \u001b[1;34m'Uganda'\u001b[0m\u001b[1;33m)\u001b[0m\u001b[1;33m\u001b[0m\u001b[1;33m\u001b[0m\u001b[0m\n",
      "\u001b[1;31mTypeError\u001b[0m: 'in <string>' requires string as left operand, not Series"
     ]
    }
   ],
   "source": [
    "import bs4\n",
    "import future.backports.urllib.request\n",
    "import pandas.io.common\n",
    "from pandas import read_excel, DataFrame\n",
    "import numpy as np\n",
    "\n",
    "class index_entity(object):\n",
    "    def __init__(self, country_name, code, date, value):\n",
    "        self.country_name = country_name\n",
    "        self.code = code\n",
    "        self.date = date\n",
    "        self.value = value\n",
    "\n",
    "country_name_list = list('Botswana', 'Egypt', 'Ghana', 'Kenya', 'Malawi', 'Mauritius', 'Morocco', 'Namibia', 'Nigeria', 'Rwanda',\n",
    "                         'South Africa', 'Tunisia', 'Tanzania', 'Uganda', 'Zambia', 'Zimbabwe'\n",
    "                        )\n",
    "\n",
    "country_link_list = list('https://www.african-markets.com/en/stock-markets/bse',\n",
    "                         'https://www.african-markets.com/en/stock-markets/egx',\n",
    "                         'https://www.african-markets.com/en/stock-markets/gse',\n",
    "                         'https://www.african-markets.com/en/stock-markets/nse',\n",
    "                         'https://www.african-markets.com/en/stock-markets/mse',\n",
    "                         'https://www.african-markets.com/en/stock-markets/sem',\n",
    "                         'https://www.african-markets.com/en/stock-markets/bvc',\n",
    "                         'https://www.african-markets.com/en/stock-markets/nsx',\n",
    "                         'https://www.african-markets.com/en/stock-markets/ngse',\n",
    "                         'https://www.african-markets.com/en/stock-markets/rse',\n",
    "                         'https://www.african-markets.com/en/stock-markets/jse',\n",
    "                         'https://www.african-markets.com/en/stock-markets/bvmt',\n",
    "                         'https://www.african-markets.com/en/stock-markets/dse',\n",
    "                         'https://www.african-markets.com/en/stock-markets/use',\n",
    "                         'https://www.african-markets.com/en/stock-markets/luse',\n",
    "                         'https://www.african-markets.com/en/stock-markets/zse'\n",
    "                        )\n",
    "\n",
    "def findCountryName(bsObj): \n",
    "    countryName = list(bsObj.find_all('h2'))[0].get_text().strip().replace(',', '')\n",
    "    return countryName\n",
    "\n",
    "def findCountryIndexValue(bsObj):\n",
    "    countryIndex = list(bsObj.find_all('span', {\"style\": \"font-weight:bold;font-size: 22pt\"}))[0].get_text().strip().replace(',', '')\n",
    "    return countryIndex\n",
    "\n",
    "def findDate(bsObj): \n",
    "    countryDate = list(bsObj.find_all('span', {\"style\": \"font-size:7pt\"}))[0].get_text().strip().replace(',', '')\n",
    "\n",
    "for link in country_link_list: \n",
    "    req = future.backports.urllib.request.Request('https://www.african-markets.com/en/stock-markets/use',\n",
    "                                                  headers = {'User-Agent': 'Mozilla/5.0'})\n",
    "    webPage = pandas.io.common.urlopen(req)\n",
    "    bsObj = bs4.BeautifulSoup(webPage.read(), features = \"lxml\")\n",
    "\n",
    "    # print(bsObj.prettify())\n",
    "    content_name = 'Uganda'\n",
    "    content_country = findCountryName(bsObj)\n",
    "    content_value = findCountryIndexValue(bsObj)\n",
    "    content_date = findDate(bsObj)\n",
    "\n",
    "    print(content_country)\n",
    "    print(content_value)\n",
    "    print(content_date)\n",
    "\n",
    "\n",
    "file = read_excel('MacroData_WebsiteSources.xlsx')\n",
    "df = DataFrame(file, columns = ['ID_macro_ent', 'Country', 'Source'])\n",
    "# print(df)\n",
    "\n",
    "\n",
    "df['Code'] = df.loc[df['Country'].isin('Uganda')]\n",
    "conditions = [\n",
    "    (df['Country'] == 'Botswana'),\n",
    "    (df['Country'] == 'Egypt'),\n",
    "    (df['Country'] == 'Ghana'),\n",
    "    (df['Country'] == 'Kenya'),\n",
    "    (df['Country'] == 'Malawi'),\n",
    "    (df['Country'] == 'Mauritius'),\n",
    "    (df['Country'] == 'Morocco'),\n",
    "    (df['Country'] == 'Namibia'),\n",
    "    (df['Country'] == 'Nigeria'),\n",
    "    (df['Country'] == 'Rwanda'),\n",
    "    (df['Country'] == 'South Africa'),\n",
    "    (df['Country'] == 'Tunisia'),\n",
    "    (df['Country'] == 'Tanzania'),\n",
    "    (df['Country'] == 'Uganda'),\n",
    "    (df['Country'] == 'Zambia'),\n",
    "    (df['Country'] == 'Zimbabwe')\n",
    "]\n",
    "choices = ['BSE', 'blue', 'purple']\n",
    "df['Code'] = np.select(conditions, choices, default='black')\n",
    "print(df)"
   ]
  },
  {
   "cell_type": "code",
   "execution_count": null,
   "metadata": {},
   "outputs": [],
   "source": []
  }
 ],
 "metadata": {
  "kernelspec": {
   "display_name": "Python 3",
   "language": "python",
   "name": "python3"
  },
  "language_info": {
   "codemirror_mode": {
    "name": "ipython",
    "version": 3
   },
   "file_extension": ".py",
   "mimetype": "text/x-python",
   "name": "python",
   "nbconvert_exporter": "python",
   "pygments_lexer": "ipython3",
   "version": "3.7.3"
  }
 },
 "nbformat": 4,
 "nbformat_minor": 2
}
